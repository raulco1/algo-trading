{
 "cells": [
  {
   "cell_type": "code",
   "execution_count": 1,
   "metadata": {},
   "outputs": [],
   "source": [
    "%run config.ipynb #hide sensitive info from git hub \n",
    "import requests\n",
    "import seaborn as sns\n",
    "import matplotlib.pyplot as plt\n",
    "import pandas as pd\n",
    "from datetime import datetime\n",
    "from matplotlib import rcParams\n"
   ]
  },
  {
   "cell_type": "code",
   "execution_count": 2,
   "metadata": {},
   "outputs": [],
   "source": [
    "RAPIDAPI_KEY    =  YOUR_RAPIDAPI_KEY "
   ]
  },
  {
   "cell_type": "code",
   "execution_count": 3,
   "metadata": {},
   "outputs": [
    {
     "name": "stdout",
     "output_type": "stream",
     "text": [
      "String could not be converted to JSON\n"
     ]
    }
   ],
   "source": [
    "try:\n",
    "\ta_json = json.loads(response.json()['chart'])\n",
    "\tprint(a_json)\n",
    "except:\n",
    "\tprint(\"String could not be converted to JSON\")"
   ]
  },
  {
   "cell_type": "code",
   "execution_count": 4,
   "metadata": {},
   "outputs": [],
   "source": [
    "symbol_string = \"AAPL\"\n",
    "inputdata = {}\n",
    "def fetchStockData(symbol):\n",
    "    url = \"https://apidojo-yahoo-finance-v1.p.rapidapi.com/market/get-charts\"\n",
    "\n",
    "    querystring = {\"symbol\":symbol,\"interval\":\"1d\",\"range\":\"3mo\",\"region\":\"US\",\"comparisons\":\"^GDAXI,^FCHI\"}\n",
    "\n",
    "    headers = {\n",
    "        'x-rapidapi-key': RAPIDAPI_KEY ,\n",
    "        'x-rapidapi-host': \"apidojo-yahoo-finance-v1.p.rapidapi.com\"\n",
    "        }\n",
    "    response = requests.request(\"GET\", url, headers=headers, params=querystring)\n",
    "    if (response.status_code == 200):\n",
    "        return response.json()\n",
    "    else:\n",
    "        return None"
   ]
  },
  {
   "cell_type": "code",
   "execution_count": 5,
   "metadata": {},
   "outputs": [],
   "source": [
    "def parseTimestamp(inputdata):\n",
    "\n",
    "  timestamplist = []\n",
    "\n",
    "  timestamplist.extend(inputdata[\"chart\"][\"result\"][0][\"timestamp\"])\n",
    "  timestamplist.extend(inputdata[\"chart\"][\"result\"][0][\"timestamp\"])\n",
    "\n",
    "  calendertime = []\n",
    "\n",
    "  for ts in timestamplist:\n",
    "    dt = datetime.fromtimestamp(ts)\n",
    "    calendertime.append(dt.strftime(\"%m/%d/%Y\"))\n",
    "\n",
    "  return calendertime\n",
    "\n",
    "\n",
    "\n",
    "def parseValues(inputdata):\n",
    "\n",
    "  valueList = []\n",
    "  valueList.extend(inputdata[\"chart\"][\"result\"][0][\"indicators\"][\"quote\"][0][\"open\"])\n",
    "  valueList.extend(inputdata[\"chart\"][\"result\"][0][\"indicators\"][\"quote\"][0][\"close\"])\n",
    "\n",
    "  return valueList\n",
    "\n",
    "\n",
    "\n",
    "def attachEvents(inputdata):\n",
    "\n",
    "  eventlist = []\n",
    "\n",
    "  for i in range(0,len(inputdata[\"chart\"][\"result\"][0][\"timestamp\"])):\n",
    "    eventlist.append(\"open\")    \n",
    "\n",
    "  for i in range(0,len(inputdata[\"chart\"][\"result\"][0][\"timestamp\"])):\n",
    "    eventlist.append(\"close\")\n",
    "\n",
    "  return eventlist"
   ]
  },
  {
   "cell_type": "code",
   "execution_count": 6,
   "metadata": {},
   "outputs": [
    {
     "data": {
      "text/plain": [
       "['09/09/2021',\n",
       " '09/10/2021',\n",
       " '09/13/2021',\n",
       " '09/14/2021',\n",
       " '09/15/2021',\n",
       " '09/16/2021',\n",
       " '09/17/2021',\n",
       " '09/20/2021',\n",
       " '09/21/2021',\n",
       " '09/22/2021',\n",
       " '09/23/2021',\n",
       " '09/24/2021',\n",
       " '09/27/2021',\n",
       " '09/28/2021',\n",
       " '09/29/2021',\n",
       " '09/30/2021',\n",
       " '10/01/2021',\n",
       " '10/04/2021',\n",
       " '10/05/2021',\n",
       " '10/06/2021',\n",
       " '10/07/2021',\n",
       " '10/08/2021',\n",
       " '10/11/2021',\n",
       " '10/12/2021',\n",
       " '10/13/2021',\n",
       " '10/14/2021',\n",
       " '10/15/2021',\n",
       " '10/18/2021',\n",
       " '10/19/2021',\n",
       " '10/20/2021',\n",
       " '10/21/2021',\n",
       " '10/22/2021',\n",
       " '10/25/2021',\n",
       " '10/26/2021',\n",
       " '10/27/2021',\n",
       " '10/28/2021',\n",
       " '10/29/2021',\n",
       " '11/01/2021',\n",
       " '11/02/2021',\n",
       " '11/03/2021',\n",
       " '11/04/2021',\n",
       " '11/05/2021',\n",
       " '11/08/2021',\n",
       " '11/09/2021',\n",
       " '11/10/2021',\n",
       " '11/11/2021',\n",
       " '11/12/2021',\n",
       " '11/15/2021',\n",
       " '11/16/2021',\n",
       " '11/17/2021',\n",
       " '11/18/2021',\n",
       " '11/19/2021',\n",
       " '11/22/2021',\n",
       " '11/23/2021',\n",
       " '11/24/2021',\n",
       " '11/25/2021',\n",
       " '11/26/2021',\n",
       " '11/29/2021',\n",
       " '11/30/2021',\n",
       " '12/01/2021',\n",
       " '12/02/2021',\n",
       " '12/03/2021',\n",
       " '12/06/2021',\n",
       " '12/07/2021',\n",
       " '12/08/2021',\n",
       " '09/09/2021',\n",
       " '09/10/2021',\n",
       " '09/13/2021',\n",
       " '09/14/2021',\n",
       " '09/15/2021',\n",
       " '09/16/2021',\n",
       " '09/17/2021',\n",
       " '09/20/2021',\n",
       " '09/21/2021',\n",
       " '09/22/2021',\n",
       " '09/23/2021',\n",
       " '09/24/2021',\n",
       " '09/27/2021',\n",
       " '09/28/2021',\n",
       " '09/29/2021',\n",
       " '09/30/2021',\n",
       " '10/01/2021',\n",
       " '10/04/2021',\n",
       " '10/05/2021',\n",
       " '10/06/2021',\n",
       " '10/07/2021',\n",
       " '10/08/2021',\n",
       " '10/11/2021',\n",
       " '10/12/2021',\n",
       " '10/13/2021',\n",
       " '10/14/2021',\n",
       " '10/15/2021',\n",
       " '10/18/2021',\n",
       " '10/19/2021',\n",
       " '10/20/2021',\n",
       " '10/21/2021',\n",
       " '10/22/2021',\n",
       " '10/25/2021',\n",
       " '10/26/2021',\n",
       " '10/27/2021',\n",
       " '10/28/2021',\n",
       " '10/29/2021',\n",
       " '11/01/2021',\n",
       " '11/02/2021',\n",
       " '11/03/2021',\n",
       " '11/04/2021',\n",
       " '11/05/2021',\n",
       " '11/08/2021',\n",
       " '11/09/2021',\n",
       " '11/10/2021',\n",
       " '11/11/2021',\n",
       " '11/12/2021',\n",
       " '11/15/2021',\n",
       " '11/16/2021',\n",
       " '11/17/2021',\n",
       " '11/18/2021',\n",
       " '11/19/2021',\n",
       " '11/22/2021',\n",
       " '11/23/2021',\n",
       " '11/24/2021',\n",
       " '11/25/2021',\n",
       " '11/26/2021',\n",
       " '11/29/2021',\n",
       " '11/30/2021',\n",
       " '12/01/2021',\n",
       " '12/02/2021',\n",
       " '12/03/2021',\n",
       " '12/06/2021',\n",
       " '12/07/2021',\n",
       " '12/08/2021']"
      ]
     },
     "execution_count": 6,
     "metadata": {},
     "output_type": "execute_result"
    }
   ],
   "source": [
    "test = fetchStockData(\"AAPL\")\n",
    "parseTimestamp(test)"
   ]
  },
  {
   "cell_type": "code",
   "execution_count": 7,
   "metadata": {},
   "outputs": [],
   "source": [
    "while len(symbol_string) <= 2:\n",
    "\n",
    "        symbol_string = input(\"Enter the stock symbol: \")\n",
    "\n",
    "retdata = fetchStockData(symbol_string)\n",
    "\n",
    "if (None != inputdata): \n",
    "\n",
    "        inputdata[\"Timestamp\"] = parseTimestamp(retdata)\n",
    "\n",
    "        inputdata[\"Values\"] = parseValues(retdata)\n",
    "\n",
    "        inputdata[\"Events\"] = attachEvents(retdata)\n",
    "\n",
    "        df = pd.DataFrame(inputdata)"
   ]
  },
  {
   "cell_type": "code",
   "execution_count": 8,
   "metadata": {},
   "outputs": [
    {
     "data": {
      "image/png": "[encoded data removed]",
      "text/plain": [
       "<Figure size 936x360 with 1 Axes>"
      ]
     },
     "metadata": {},
     "output_type": "display_data"
    }
   ],
   "source": [
    "sns.set(style=\"darkgrid\")\n",
    "\n",
    "rcParams['figure.figsize'] = 13,5\n",
    "rcParams['figure.subplot.bottom'] = 0.2\n",
    "\n",
    "\n",
    "ax = sns.lineplot(x=\"Timestamp\", y=\"Values\", hue=\"Events\",dashes=False, markers=True, \n",
    "                   data=df, sort=False)\n",
    "\n",
    "\n",
    "ax.set_title('Symbol: ' + symbol_string)\n",
    "\n",
    "plt.xticks(\n",
    "    rotation=45, \n",
    "    horizontalalignment='right',\n",
    "    fontweight='light',\n",
    "    fontsize='xx-small'  \n",
    ")\n",
    "\n",
    "plt.show()"
   ]
  },
  {
   "cell_type": "code",
   "execution_count": 9,
   "metadata": {},
   "outputs": [
    {
     "ename": "SyntaxError",
     "evalue": "invalid syntax (<ipython-input-9-98d93abb0e7c>, line 3)",
     "output_type": "error",
     "traceback": [
      "\u001b[1;36m  File \u001b[1;32m\"<ipython-input-9-98d93abb0e7c>\"\u001b[1;36m, line \u001b[1;32m3\u001b[0m\n\u001b[1;33m    resp = requests.get('https://api.polygon.io/v2/aggs/ticker/AAPL/range/1/day/2020-06-01/2020-06-17?apiKey=8KxAAuJXK7mtasEMVmMTBGh1oPDoiYjB'))\u001b[0m\n\u001b[1;37m                                                                                                                                               ^\u001b[0m\n\u001b[1;31mSyntaxError\u001b[0m\u001b[1;31m:\u001b[0m invalid syntax\n"
     ]
    }
   ],
   "source": [
    "import requests\n",
    "\n",
    "resp = requests.get('https://api.polygon.io/v2/aggs/ticker/AAPL/range/1/day/2020-06-01/2020-06-17?apiKey=8KxAAuJXK7mtasEMVmMTBGh1oPDoiYjB'))\n",
    "\n",
    "\"\"\"\n",
    "if resp.status_code != 200:\n",
    "    # This means something went wrong.\n",
    "    raise ApiError('GET /tasks/ {}'.format(resp.status_code))\n",
    "for todo_item in resp.json():\n",
    "    print('{} {}'.format(todo_item['id'], todo_item['summary']))\n",
    "\"\"\""
   ]
  },
  {
   "cell_type": "code",
   "execution_count": 10,
   "metadata": {},
   "outputs": [],
   "source": [
    "import requests\n",
    "\n",
    "url = \"https://api.polygon.io/v2/reference/tickers?sort=ticker&market=CRYPTO&perpage=50&page=1&apiKey=8KxAAuJXK7mtasEMVmMTBGh1oPDoiYjB\"\n",
    "\n",
    "payload={}\n",
    "headers = {}\n",
    "\n",
    "response = requests.request(\"GET\", url, headers=headers, data=payload)"
   ]
  },
  {
   "cell_type": "code",
   "execution_count": 11,
   "metadata": {},
   "outputs": [
    {
     "data": {
      "text/plain": [
       "dict_keys(['error', 'status'])"
      ]
     },
     "execution_count": 11,
     "metadata": {},
     "output_type": "execute_result"
    }
   ],
   "source": [
    "x = response.json()\n",
    "x.keys()"
   ]
  },
  {
   "cell_type": "code",
   "execution_count": 12,
   "metadata": {},
   "outputs": [
    {
     "ename": "KeyError",
     "evalue": "'tickers'",
     "output_type": "error",
     "traceback": [
      "\u001b[1;31m---------------------------------------------------------------------------\u001b[0m",
      "\u001b[1;31mKeyError\u001b[0m                                  Traceback (most recent call last)",
      "\u001b[1;32m<ipython-input-12-9910519d1c20>\u001b[0m in \u001b[0;36m<module>\u001b[1;34m\u001b[0m\n\u001b[1;32m----> 1\u001b[1;33m \u001b[0mdf\u001b[0m\u001b[1;33m=\u001b[0m\u001b[0mpd\u001b[0m\u001b[1;33m.\u001b[0m\u001b[0mDataFrame\u001b[0m\u001b[1;33m(\u001b[0m\u001b[0mx\u001b[0m\u001b[1;33m[\u001b[0m\u001b[1;34m'tickers'\u001b[0m\u001b[1;33m]\u001b[0m\u001b[1;33m)\u001b[0m\u001b[1;33m\u001b[0m\u001b[1;33m\u001b[0m\u001b[0m\n\u001b[0m\u001b[0;32m      2\u001b[0m \u001b[0mdf\u001b[0m\u001b[1;33m\u001b[0m\u001b[1;33m\u001b[0m\u001b[0m\n",
      "\u001b[1;31mKeyError\u001b[0m: 'tickers'"
     ]
    }
   ],
   "source": [
    "df=pd.DataFrame(x['tickers'])\n",
    "df"
   ]
  },
  {
   "cell_type": "code",
   "execution_count": null,
   "metadata": {},
   "outputs": [],
   "source": [
    "bb"
   ]
  },
  {
   "cell_type": "code",
   "execution_count": null,
   "metadata": {},
   "outputs": [],
   "source": []
  },
  {
   "cell_type": "code",
   "execution_count": null,
   "metadata": {},
   "outputs": [],
   "source": []
  },
  {
   "cell_type": "code",
   "execution_count": null,
   "metadata": {},
   "outputs": [],
   "source": []
  },
  {
   "cell_type": "code",
   "execution_count": null,
   "metadata": {},
   "outputs": [],
   "source": []
  },
  {
   "cell_type": "code",
   "execution_count": null,
   "metadata": {},
   "outputs": [],
   "source": []
  },
  {
   "cell_type": "code",
   "execution_count": null,
   "metadata": {},
   "outputs": [],
   "source": []
  },
  {
   "cell_type": "markdown",
   "metadata": {},
   "source": [
    "<center>Week 1 Chart making </center>\n",
    "make a log price chart\n",
    "##### Chart 1\n",
    "- price and time \n",
    "- Tick maker showing the highest/lowest for that week\n",
    "-  on the tick mark a cross hatch to showing the closing price/ last price that week \n",
    "- Black up weeks when stock is higher than previous week\n",
    "- Red opposite\n",
    "\n",
    "###### Chart 2 (bottom) \n",
    "- "
   ]
  },
  {
   "cell_type": "markdown",
   "metadata": {},
   "source": [
    "investors.com/si\n",
    "\n",
    "S&P  predictors and dow jones are predictaors of stock \n",
    "\n",
    "Make something similar check to see which coins follow each others paths\n",
    "- \"AI\" project checking which coins are similar to which\n",
    "- like put a % to it\n",
    "\n",
    "Check to see what a coincident vs lagging indicator is"
   ]
  },
  {
   "cell_type": "markdown",
   "metadata": {},
   "source": [
    "<center> Week 2: Markets Direction, Step 1 Which way is the market going</center>\n",
    "The economy does not lead the the market, the market leads the economy\n",
    "\n",
    "Important to track both price and volume\n",
    "-market is down and volume increase? (Supply and demand ratio shift)\n",
    "    might mean a turn\n",
    "- 3 to 5 day distribution ( 4- 10 an attempt at realley may be seen -> 4-7 days from the bottom)\n",
    "\n",
    "- Bear markets \n",
    "    open up higher at the begining of the day bu close dowb\n",
    "- Bull\n",
    "open lowers\n",
    "lower priced lower quantitiy stocks at the top of the most active sign of weaking general economy\n",
    "\n",
    "Recognize market bottom \n",
    "\n",
    "\n",
    "\n",
    "\n",
    "\n",
    "figure out when the market is going to hit the top\n",
    "1. Figure what is a market Increase what is a jump from sort of standard to a big avg ( used to get as much peak data) \n",
    "Answer:\n",
    "- once i have this can beging look at factors that cause what trends correlate \n",
    "- code to have all data on one stock in one go to see matching pattens\n",
    "\n",
    "2. Once i know my answer begin collectinge data based on about that amount \n",
    "- normalize the data \n",
    "- begin tring to find predictors \n",
    "- get an idea of when i should by by what day \n",
    "\n",
    "- figure out range ( of when to buy and sell dont want to be at peak but a few weeks behined instead)\n",
    "\n",
    "\n",
    "\n",
    " \n",
    " \n",
    " "
   ]
  },
  {
   "cell_type": "code",
   "execution_count": null,
   "metadata": {},
   "outputs": [],
   "source": []
  },
  {
   "cell_type": "markdown",
   "metadata": {},
   "source": [
    "Step 2 use a simple 3-1 profit and loss percentage plan\n",
    "Market leaders fall by an avg of 72 persentage and year and a half of greatest market performance\n",
    "\n",
    "\n",
    "\n",
    "### Understanding losses \n",
    "(What my ideal percentage loss) \n",
    "Avoid 25% - 60% , heard also 7%\n",
    "cut loss at no more than 7-8%\n",
    "\n",
    "Consider Selling a few stock when they are up 20-25%\n",
    "Maintaining a 3-1 ratio\n",
    "- right on 30% of stock pyrchase\n",
    "- wrong on 70% \n",
    "/**** In Dificult markets***/\n",
    "3-5% loss \n",
    "10-15% gain\n",
    "\n",
    "\n",
    "#Play with the %\n",
    "Look at how much certain stocks move % wise then you can create margins to make your purchase fit with in the percatge loss\n"
   ]
  },
  {
   "cell_type": "code",
   "execution_count": 33,
   "metadata": {},
   "outputs": [
    {
     "name": "stdout",
     "output_type": "stream",
     "text": [
      "My Loss price after 9.0% drop\n",
      "72.8=80*(1-0.09)\n",
      "to get back what I loss Prectage gain of 9%\n"
     ]
    }
   ],
   "source": [
    "#When on robin hood or any securities look at percentages not gains \n",
    "\n",
    "# Add this in my analysis of stocks\n",
    "int_price = 80\n",
    "per_loss = .09 #37.5%\n",
    "drop_price = int_price * (1- per_loss) # Make a class that copies this line but prints it out using varibles\n",
    "print(\"My Loss price after {}% drop\".format(per_loss*100))\n",
    "print(\"{}={}*(1-{})\".format (drop_price,int_price,per_loss))\n",
    "rally = int_price / drop_price\n",
    "per_gain = int((rally-1)*100)\n",
    "print(\"to get back what I loss Prectage gain of {}%\".format(per_gain))\n"
   ]
  },
  {
   "cell_type": "code",
   "execution_count": 35,
   "metadata": {},
   "outputs": [
    {
     "data": {
      "text/plain": [
       "0.75"
      ]
     },
     "execution_count": 35,
     "metadata": {},
     "output_type": "execute_result"
    }
   ],
   "source": [
    "600/800"
   ]
  },
  {
   "cell_type": "markdown",
   "metadata": {},
   "source": [
    "Step 3 How to buy the very best sotck at the very best time\n",
    "\n",
    "Create a chart with buy points \n",
    "Example of it to get better idea of which i should buy\n",
    "maybe make  a fliter for these\n",
    "\n",
    "1. Earinings per share in tha latest quarter should be up at least 25% versus the same quarter a year ago, and preferably much more\n",
    "EPS = total after tax profits / number of shares outstanding\n",
    "2. Earnings growth should be accelerated at some point in recent quarters compared with earlier rates of change\n",
    "- accelerating means percentage gains in earnings per share there has be an accelerate growth at some point\n",
    "- 6 or eight quaters steading gain jump from 20% to 40%\n",
    "3. Annual earnings for that last 3 yrs should be increased at a rate of 25% per yr or more \n",
    "Lookat Investor buisnes daily eps ratin\n",
    "4. Sales should be up 25 percent or more in one or more recent quarters or at least accelerating in their percentage change for the last three quarters\n",
    "5. The afte tax profit margins in the most recent quarters should be either at or at least close to a new high among the very best in the company's industry\n",
    "6. Return on equity should be 15 to 17 percent or higher. \n",
    "ROE - how effcient a compnay is with its money\n",
    "7. Technology companies should show cash flow earnings per share greater than regular earnings \n",
    "Cash flow adds back the amount of depreciation a company shows to reflect the amount of cash being generated internally\n",
    "20% or greater ussusally \n",
    "- ROE (investors.com)\n",
    "8.In normal bull markets, both the earnings per share and relative strength ratings should in most cases be 90 or higher\n",
    "    The EPS reating is calculated by combing a companys three yr profit growth with recent quarterly earnings \n",
    "9. The Stock's industry group should rank in the top 10 or 20 among the 197 groups tracked by investors buisness daily\n",
    "Look into industry group ranks ( computer sofware , Retail, etc. \n",
    "10. The Stock should have insutituional sponsers such as mutual funds, banks, and insuarance companies \n",
    "- Look into investors who is investing in them\n",
    "11. It's Usually a plus if the company is buying back its own stock preferably 5- 10 percent or more.\n",
    "well establish companies 2% own by management , new more limited shares 5 to 30%\n",
    "12. Its vital in any stock you buy that you really understand the story of the company \n",
    "What does the company do?\n",
    "How are products or services used?\n",
    "What unique advantages do they offer?\n",
    "who buys them?\n",
    "\n",
    "____________\n",
    "Cup with handle \n",
    "-moves down for 5-7 weeks moves\n",
    "- next move up more than half way usually 10-15%\n",
    "- end of cup right side 3 week tight \n",
    "Reebok sep 1985 - jan 1986 \n",
    "microstrategy sep 98 ,dec 98, mar 99, jun 99, sep99, dec 99 - mar 00 (sep 99) \n",
    "\n",
    "______\n",
    "Saucer \n",
    "______\n",
    "Double Bottom\n",
    "____ \n",
    "Flat Base \n",
    "____\n",
    "Ascending Base\n",
    "____\n",
    "\n"
   ]
  },
  {
   "cell_type": "code",
   "execution_count": null,
   "metadata": {},
   "outputs": [],
   "source": []
  },
  {
   "cell_type": "markdown",
   "metadata": {},
   "source": [
    "Step 4 When to Sell and nail  your big profit while you still have it\n",
    "\n",
    "Stocks go up 25- 30% and drop down if stable go up again \n",
    "-market corection\n",
    "cut losses at 20 - 25%\n",
    "exception if strong bull market \n",
    "3yrs earnings and sales growth, high ROE, 20% volumen in 2-3 wks\n",
    "Companies to look at stock increases\n",
    "America online\n",
    "Fairchild Camera "
   ]
  }
 ],
 "metadata": {
  "kernelspec": {
   "display_name": "Python 3",
   "language": "python",
   "name": "python3"
  },
  "language_info": {
   "codemirror_mode": {
    "name": "ipython",
    "version": 3
   },
   "file_extension": ".py",
   "mimetype": "text/x-python",
   "name": "python",
   "nbconvert_exporter": "python",
   "pygments_lexer": "ipython3",
   "version": "3.7.6"
  }
 },
 "nbformat": 4,
 "nbformat_minor": 4
}
